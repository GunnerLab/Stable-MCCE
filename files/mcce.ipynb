{
 "cells": [
  {
   "cell_type": "markdown",
   "metadata": {},
   "source": [
    "# MCCE program template\n",
    "*By Junjun Mao <junjun.mao@gmail.com>*\n",
    "\n",
    "Feel free to use this template to run pKa calculation with MCCE.\n",
    "\n",
    "A complete documentation is at https://gunnerlab.github.io/Stable-MCCE/"
   ]
  },
  {
   "cell_type": "markdown",
   "metadata": {},
   "source": [
    "## Prepare the running environment\n",
    "\n",
    "MCCE program needs to know where mcce executables are. This part set the environment.\n",
    "\n",
    "<span style=\"color:red\">Change MCCE_PATH to your installation folder unless you run this on Levich server.</span>"
   ]
  },
  {
   "cell_type": "code",
   "execution_count": null,
   "metadata": {},
   "outputs": [],
   "source": [
    "# Point this to your MCCE installation directory \n",
    "MCCE_PATH = \"/home/mcce/Stable-MCCE\""
   ]
  },
  {
   "cell_type": "code",
   "execution_count": null,
   "metadata": {},
   "outputs": [],
   "source": [
    "import sys\n",
    "import os\n",
    "import subprocess\n",
    "\n",
    "# Add to environment PATH\n",
    "os.environ[\"PATH\"] = \"%s/bin/:%s\" % (MCCE_PATH, os.environ[\"PATH\"])\n",
    "# Add to Python PATH\n",
    "sys.path.insert(0, \"%s/bin\" % MCCE_PATH)"
   ]
  },
  {
   "cell_type": "markdown",
   "metadata": {},
   "source": [
    "## Get the pdb file\n",
    "\n",
    "You can download from PDB like in this example, or upload a file to this directory."
   ]
  },
  {
   "cell_type": "code",
   "execution_count": null,
   "metadata": {},
   "outputs": [],
   "source": [
    "!getpdb 4lzt"
   ]
  },
  {
   "cell_type": "markdown",
   "metadata": {},
   "source": [
    "## Step 1. Convert PDB file into MCCE PDB\n",
    "\n",
    "This step proof reads the structure file and cut terminal residues and complex cofactors into smaller ones if necessary."
   ]
  },
  {
   "cell_type": "code",
   "execution_count": null,
   "metadata": {},
   "outputs": [],
   "source": [
    "!step1.py 4LZT.pdb"
   ]
  },
  {
   "cell_type": "markdown",
   "metadata": {},
   "source": [
    "## Step 2. Make side chain conformers\n",
    "\n",
    "This step makes alternative side chain locations and ionization states."
   ]
  },
  {
   "cell_type": "code",
   "execution_count": null,
   "metadata": {},
   "outputs": [],
   "source": [
    "!step2.py"
   ]
  },
  {
   "cell_type": "markdown",
   "metadata": {},
   "source": [
    "## Step 3. Make energy table\n",
    "\n",
    "This step calculates conformer self energy and pairwise interaction table.\n",
    "\n",
    "You can run step 3 assuming the protein has dielectric constant 4 or 8. Small proteins have mor ploar and ionizable residues so  dielectric constant 8 is often better.\n",
    "\n",
    "**This step may take hours, please be patient.**"
   ]
  },
  {
   "cell_type": "code",
   "execution_count": null,
   "metadata": {},
   "outputs": [],
   "source": [
    "!step3.py\n",
    "\n",
    "# Use this line for dielectric constant 8\n",
    "#!step3.py -d 8"
   ]
  },
  {
   "cell_type": "markdown",
   "metadata": {},
   "source": [
    "# Step 4. Simulate a titration with Monte Carlo sampling\n",
    "\n",
    "This step simulates a titration and writes out the conformation and ionization states of each side chain at various conditions.\n",
    "\n",
    "Use command\n",
    "```\n",
    "step4.py --xts\n",
    "```\n",
    "if you want entropy correction, which makes ionized and neutral groups of conformers have an equal chance to be sampled.\n",
    "\n",
    "Or\n",
    "```\n",
    "step4.py\n",
    "```\n",
    "without entropy correction."
   ]
  },
  {
   "cell_type": "code",
   "execution_count": null,
   "metadata": {},
   "outputs": [],
   "source": [
    "!step4.py --xts\n",
    "#!step4.py"
   ]
  },
  {
   "cell_type": "markdown",
   "metadata": {},
   "source": [
    "## Check the results \n",
    "\n",
    "* The occupancy table is in file fort.38.\n",
    "* The net charge is in file sum_crg.out\n",
    "* pKas are in file pK.out"
   ]
  },
  {
   "cell_type": "code",
   "execution_count": null,
   "metadata": {},
   "outputs": [],
   "source": [
    "#check calculated pKa values\n",
    "!cat pK.out "
   ]
  },
  {
   "cell_type": "code",
   "execution_count": null,
   "metadata": {},
   "outputs": [],
   "source": [
    "#Checkcomformer occupancy\n",
    "!cat fort.38"
   ]
  },
  {
   "cell_type": "code",
   "execution_count": null,
   "metadata": {},
   "outputs": [],
   "source": [
    "#checkresidue charges\n",
    "!cat sum_crg.out"
   ]
  },
  {
   "cell_type": "markdown",
   "metadata": {},
   "source": [
    "## Fit the titration curve\n",
    "Use the residue IDs in sum_crg.out or pK.out, pass to fitpka function, you can get a fitted titration curves."
   ]
  },
  {
   "cell_type": "code",
   "execution_count": null,
   "metadata": {},
   "outputs": [],
   "source": [
    "import fitpka\n",
    "fitpka.fitpka([\"GLU-A0035_\", \"ASP-A0066_\"])"
   ]
  },
  {
   "cell_type": "markdown",
   "metadata": {},
   "source": [
    "## Show major influencers to a residue pKa\n",
    "\n",
    "Use mfe.py to see all terms that contribute to the ionization free energy. https://gunnerlab.github.io/Stable-MCCE/tools/#mfepy"
   ]
  },
  {
   "cell_type": "code",
   "execution_count": null,
   "metadata": {},
   "outputs": [],
   "source": [
    "!mfe.py GLU-A0035_ -c 0.1"
   ]
  }
 ],
 "metadata": {
  "kernelspec": {
   "display_name": "Python 3",
   "language": "python",
   "name": "python3"
  },
  "language_info": {
   "codemirror_mode": {
    "name": "ipython",
    "version": 3
   },
   "file_extension": ".py",
   "mimetype": "text/x-python",
   "name": "python",
   "nbconvert_exporter": "python",
   "pygments_lexer": "ipython3",
   "version": "3.7.7"
  }
 },
 "nbformat": 4,
 "nbformat_minor": 4
}
